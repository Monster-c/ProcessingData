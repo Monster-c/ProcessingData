{
 "cells": [
  {
   "cell_type": "code",
   "execution_count": 62,
   "metadata": {},
   "outputs": [],
   "source": [
    "import csv"
   ]
  },
  {
   "cell_type": "code",
   "execution_count": 77,
   "metadata": {
    "scrolled": true
   },
   "outputs": [],
   "source": [
    "file_location = 'H:/组会/1.csv'"
   ]
  },
  {
   "cell_type": "code",
   "execution_count": 112,
   "metadata": {},
   "outputs": [],
   "source": [
    "# 第一个表，先提取一下变更内容\n",
    "with open(file_location, 'r') as f:\n",
    "    #制表头\n",
    "    head = f.readline().split(',')\n",
    "    head = head[3:5]\n",
    "    first_result = open('H:/组会/2.csv', 'w')\n",
    "    writer = csv.writer(first_result)\n",
    "    writer.writerow(head)\n",
    "    first_result.close()"
   ]
  },
  {
   "cell_type": "code",
   "execution_count": 109,
   "metadata": {
    "scrolled": true
   },
   "outputs": [
    {
     "name": "stdout",
     "output_type": "stream",
     "text": [
      "5001\n"
     ]
    }
   ],
   "source": [
    "file = csv.reader(open(file_location, 'r'))\n",
    "datarows=0\n",
    "for data in file:\n",
    "    if data:\n",
    "        datarows += 1\n",
    "    else:\n",
    "        break\n",
    "print(datarows)"
   ]
  },
  {
   "cell_type": "code",
   "execution_count": 110,
   "metadata": {},
   "outputs": [],
   "source": [
    "import numpy"
   ]
  },
  {
   "cell_type": "code",
   "execution_count": 104,
   "metadata": {
    "scrolled": true
   },
   "outputs": [
    {
     "name": "stdout",
     "output_type": "stream",
     "text": [
      "5fe03c6603564b0e44245c92,亚非企业管理（西安）有限公司,投资人（股权）变更,[\"<em>企业名称: 凯基创投有限公司; 出资额: 100; 百分比: 100【退出】</em>\"],[\"<em>企业名称: 展得有限公司; 出资额: 100; 百分比: 100【新增】</em>\"],2018-03-13,2020-01-13,91610133321711436Q,1e170c387b6a5445b3cf66adceb58e18,有限责任公司(外国法人独资),租赁和商务服务业,商务服务业,陕西省,西安市,雁塔区,\"[陕西省, 西安市, 雁塔区]\",\"[陕西省, 西安市, 雁塔区]\",d99bda4f-bfa7-4a45-b52f-b36cfc511c31\n",
      "\n",
      "[\"<em>企业名称: 凯基创投有限公司; 出资额: 100; 百分比: 100【退出】</em>\"]\n",
      "[\"<em>企业名称: 展得有限公司; 出资额: 100; 百分比: 100【新增】</em>\"]\n"
     ]
    }
   ],
   "source": [
    "#将变更信息写入\n",
    "second_result = open('H:/组会/2.csv', 'ab')\n",
    "writer = csv.writer(second_result)\n",
    "with open(src_file, 'r') as f:\n",
    "    #把表头去掉\n",
    "    f.readline()\n",
    "    while True:\n",
    "        line_data =f.readline()\n",
    "        print(line_data)\n",
    "        data = line_data.split(',')\n",
    "        data = data[3:5]\n",
    "        print(data[0])\n",
    "        print(data[1])\n",
    "        break"
   ]
  },
  {
   "cell_type": "code",
   "execution_count": 114,
   "metadata": {
    "scrolled": true
   },
   "outputs": [
    {
     "name": "stdout",
     "output_type": "stream",
     "text": [
      "finished!!\n"
     ]
    }
   ],
   "source": [
    "#将变更信息写入\n",
    "second_result = open('H:/组会/2.csv', 'a')\n",
    "writer = csv.writer(second_result)\n",
    "with open(src_file, 'r') as f:\n",
    "    #把表头去掉\n",
    "    f.readline()\n",
    "    while True:\n",
    "        line_data = f.readline()\n",
    "        if not line_data:\n",
    "            f.close()\n",
    "            print('finished!!')\n",
    "            break\n",
    "        data = line_data.split(',')\n",
    "        data = data[3:5]\n",
    "        writer.writerow([data])"
   ]
  },
  {
   "cell_type": "code",
   "execution_count": null,
   "metadata": {},
   "outputs": [],
   "source": []
  }
 ],
 "metadata": {
  "kernelspec": {
   "display_name": "Python 3",
   "language": "python",
   "name": "python3"
  },
  "language_info": {
   "codemirror_mode": {
    "name": "ipython",
    "version": 3
   },
   "file_extension": ".py",
   "mimetype": "text/x-python",
   "name": "python",
   "nbconvert_exporter": "python",
   "pygments_lexer": "ipython3",
   "version": "3.7.6"
  }
 },
 "nbformat": 4,
 "nbformat_minor": 4
}
